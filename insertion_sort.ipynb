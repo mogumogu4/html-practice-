{
  "nbformat": 4,
  "nbformat_minor": 0,
  "metadata": {
    "colab": {
      "provenance": [],
      "authorship_tag": "ABX9TyOZ7cSNAye2u5CCtdIgpfld",
      "include_colab_link": true
    },
    "kernelspec": {
      "name": "python3",
      "display_name": "Python 3"
    },
    "language_info": {
      "name": "python"
    }
  },
  "cells": [
    {
      "cell_type": "markdown",
      "metadata": {
        "id": "view-in-github",
        "colab_type": "text"
      },
      "source": [
        "<a href=\"https://colab.research.google.com/github/mogumogu4/html-practice-/blob/main/insertion_sort.ipynb\" target=\"_parent\"><img src=\"https://colab.research.google.com/assets/colab-badge.svg\" alt=\"Open In Colab\"/></a>"
      ]
    },
    {
      "cell_type": "code",
      "source": [
        "import random\n",
        "import datetime"
      ],
      "metadata": {
        "id": "lS90DDwIZj82"
      },
      "execution_count": 6,
      "outputs": []
    },
    {
      "cell_type": "code",
      "execution_count": 7,
      "metadata": {
        "colab": {
          "base_uri": "https://localhost:8080/"
        },
        "id": "kMUGNfVlVGkE",
        "outputId": "daf8890b-de7c-406b-cc39-d9f1164dd0df"
      },
      "outputs": [
        {
          "output_type": "stream",
          "name": "stdout",
          "text": [
            "Total number of passes: 4\n",
            "Total number of comparisons: 4\n",
            "Total number of swaps: 0\n",
            "Sorted array is: [5, 6, 11, 12, 13]\n"
          ]
        }
      ],
      "source": [
        "def insertion_sort(a):\n",
        "    np = nc = ns = 0\n",
        "    n = len(a)\n",
        "    for i in range(1, n):\n",
        "        np += 1\n",
        "        key = a[i]\n",
        "        j = i - 1\n",
        "        while j >= 0 and a[j] > key:\n",
        "            nc += 1\n",
        "            a[j + 1] = a[j]\n",
        "            ns += 1\n",
        "            j -= 1\n",
        "        a[j + 1] = key\n",
        "        nc += 1\n",
        "\n",
        "    print(f'Total number of passes: {np}')\n",
        "    print(f'Total number of comparisons: {nc}')\n",
        "    print(f'Total number of swaps: {ns}')\n",
        "    arr = [12, 11, 13, 5, 6]\n",
        "insertion_sort(arr)\n",
        "print(\"Sorted array is:\", arr)\n",
        "\n"
      ]
    },
    {
      "cell_type": "code",
      "source": [
        "def insertion_sort(a):\n",
        "    np = nc = ns = 0\n",
        "    n = len(a)\n",
        "    for i in range(1, n):\n",
        "        np += 1\n",
        "        key = a[i]\n",
        "        j = i - 1\n",
        "        while j >= 0 and a[j] > key:\n",
        "            nc += 1\n",
        "            a[j + 1] = a[j]\n",
        "            ns += 1\n",
        "            j -= 1\n",
        "        a[j + 1] = key\n",
        "        nc += 1\n",
        "\n",
        "    print(f'Total number of passes: {np}')\n",
        "    print(f'Total number of comparisons: {nc}')\n",
        "    print(f'Total number of swaps: {ns}')\n",
        "\n",
        "arr = [12, 11, 13, 5, 6]\n",
        "insertion_sort(arr)\n",
        "print(\"Sorted array is:\", arr)"
      ],
      "metadata": {
        "colab": {
          "base_uri": "https://localhost:8080/"
        },
        "id": "tlwVzAEyYLfQ",
        "outputId": "e5e8bd38-6670-40ad-fbe7-4dbe5ce35517"
      },
      "execution_count": 3,
      "outputs": [
        {
          "output_type": "stream",
          "name": "stdout",
          "text": [
            "Total number of passes: 4\n",
            "Total number of comparisons: 11\n",
            "Total number of swaps: 7\n",
            "Sorted array is: [5, 6, 11, 12, 13]\n"
          ]
        }
      ]
    },
    {
      "cell_type": "code",
      "source": [
        "def insertion_sort(arr):\n",
        "\n",
        "    for i in range(1, len(arr)):\n",
        "        key = arr[i]\n",
        "\n",
        "        j = i - 1\n",
        "        while j >= 0 and key < arr[j]:\n",
        "            arr[j + 1] = arr[j]\n",
        "            j -= 1\n",
        "        arr[j + 1] = key\n",
        "a=[]\n",
        "def randomgen():\n",
        "  for i in range(100000):\n",
        "    a.append(random.randint(0,100000))\n",
        "  return a\n",
        "data=randomgen()\n",
        "st=datetime.datetime.now()\n",
        "insertion_sort(data)\n",
        "end=datetime.datetime.now()\n",
        "print(end-st)"
      ],
      "metadata": {
        "id": "UKDO8WQtZYDj"
      },
      "execution_count": null,
      "outputs": []
    }
  ]
}